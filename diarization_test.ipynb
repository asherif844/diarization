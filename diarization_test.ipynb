{
 "cells": [
  {
   "cell_type": "markdown",
   "metadata": {},
   "source": [
    "### This script tests individual functions of the diarization function"
   ]
  },
  {
   "cell_type": "markdown",
   "metadata": {},
   "source": [
    "#### Import packages"
   ]
  },
  {
   "cell_type": "code",
   "execution_count": 122,
   "metadata": {},
   "outputs": [],
   "source": [
    "from __future__ import print_function\n",
    "import numpy as np\n",
    "import sklearn.cluster\n",
    "import scipy\n",
    "import os\n",
    "from pyAudioAnalysis import ShortTermFeatures as sF\n",
    "from pyAudioAnalysis import MidTermFeatures as aF\n",
    "from pyAudioAnalysis import audioTrainTest as aT\n",
    "from pyAudioAnalysis import audioBasicIO\n",
    "from scipy.spatial import distance\n",
    "from pyAudioAnalysis import audioSegmentation as aS\n",
    "import matplotlib.pyplot as plt\n",
    "import sklearn.discriminant_analysis\n",
    "import csv\n",
    "import os.path\n",
    "import sklearn\n",
    "import sklearn.cluster\n",
    "import hmmlearn.hmm\n",
    "import pickle as cPickle\n",
    "import glob"
   ]
  },
  {
   "cell_type": "markdown",
   "metadata": {},
   "source": [
    "#### Import diarization functions"
   ]
  },
  {
   "cell_type": "code",
   "execution_count": 123,
   "metadata": {},
   "outputs": [],
   "source": [
    "\"\"\" General utility functions \"\"\"\n",
    "\n",
    "from pyAudioAnalysis.audioSegmentation import (smoothMovingAvg,\n",
    "                                               selfSimilarityMatrix,\n",
    "                                               flags2segs,\n",
    "                                               segs2flags,\n",
    "                                               computePreRec,\n",
    "                                               readSegmentGT,\n",
    "                                               plotSegmentationResults,\n",
    "                                               evaluateSpeakerDiarization,\n",
    "                                               trainHMM_computeStatistics,\n",
    "                                               trainHMM_fromFile,\n",
    "                                               trainHMM_fromDir,\n",
    "                                               hmmSegmentation,\n",
    "                                               mtFileClassification,\n",
    "                                               evaluateSegmentationClassificationDir,\n",
    "                                               silenceRemoval,\n",
    "                                               speakerDiarizationEvaluateScript,\n",
    "                                               musicThumbnailing\n",
    "                                              )"
   ]
  },
  {
   "cell_type": "markdown",
   "metadata": {},
   "source": [
    "#### Set parameters"
   ]
  },
  {
   "cell_type": "code",
   "execution_count": 124,
   "metadata": {},
   "outputs": [],
   "source": [
    "# filename=\"./pyAudioAnalysis/data/Greenway/Conversation.wav\"\n",
    "# filename=\"./pyAudioAnalysis/data/Greenway/PhysicianPatientConversation.wav\"\n",
    "filename=\"./pyAudioAnalysis/data/Greenway/test_1_min.wav\"\n",
    "n_speakers=2\n",
    "mt_size=2.0\n",
    "mt_step=0.2\n",
    "st_win=0.05\n",
    "lda_dim=35\n",
    "plot_res=1"
   ]
  },
  {
   "cell_type": "markdown",
   "metadata": {},
   "source": [
    "#### pathname"
   ]
  },
  {
   "cell_type": "code",
   "execution_count": 125,
   "metadata": {},
   "outputs": [],
   "source": [
    "pathname='C:\\\\Users\\\\anfrankl\\\\Desktop\\\\pyAudioAnalysis\\\\pyAudioAnalysis'"
   ]
  },
  {
   "cell_type": "markdown",
   "metadata": {},
   "source": [
    "#### Read the audio file"
   ]
  },
  {
   "cell_type": "code",
   "execution_count": 126,
   "metadata": {},
   "outputs": [],
   "source": [
    "[fs, x] = audioBasicIO.read_audio_file(filename)\n",
    "x = audioBasicIO.stereo_to_mono(x)\n",
    "duration = len(x) / fs\n"
   ]
  },
  {
   "cell_type": "code",
   "execution_count": 127,
   "metadata": {},
   "outputs": [
    {
     "data": {
      "text/plain": [
       "59.989333333333335"
      ]
     },
     "execution_count": 127,
     "metadata": {},
     "output_type": "execute_result"
    }
   ],
   "source": [
    "duration"
   ]
  },
  {
   "cell_type": "markdown",
   "metadata": {},
   "source": [
    "#### Segment audio"
   ]
  },
  {
   "cell_type": "code",
   "execution_count": 128,
   "metadata": {},
   "outputs": [],
   "source": [
    "[classifier_1, MEAN1, STD1, classNames1, mtWin1, mtStep1, stWin1, stStep1, computeBEAT1] = aT.load_model_knn(os.path.join(pathname, \"data\\\\models\", \"knn_speaker_10\"))\n",
    "[classifier_2, MEAN2, STD2, classNames2, mtWin2, mtStep2, stWin2, stStep2, computeBEAT2] = aT.load_model_knn(os.path.join(pathname, \"data\\\\models\", \"knn_speaker_male_female\"))"
   ]
  },
  {
   "cell_type": "markdown",
   "metadata": {},
   "source": [
    "#### Midterm features"
   ]
  },
  {
   "cell_type": "code",
   "execution_count": 129,
   "metadata": {},
   "outputs": [],
   "source": [
    "[mt_feats, st_feats, _] = aF.mid_feature_extraction(x, fs, mt_size * fs,\n",
    "                                                    mt_step * fs,\n",
    "                                                    round(fs * st_win),\n",
    "                                                    round(fs*st_win * 0.5))\n",
    "\n",
    "MidTermFeatures2 = np.zeros((mt_feats.shape[0] + len(classNames1) +\n",
    "                                len(classNames2), mt_feats.shape[1]))"
   ]
  },
  {
   "cell_type": "markdown",
   "metadata": {},
   "source": [
    "#### Normalize features"
   ]
  },
  {
   "cell_type": "code",
   "execution_count": 130,
   "metadata": {},
   "outputs": [],
   "source": [
    "for i in range(mt_feats.shape[1]):\n",
    "    cur_f1 = (mt_feats[:, i] - MEAN1) / STD1\n",
    "    cur_f2 = (mt_feats[:, i] - MEAN2) / STD2\n",
    "    [res, P1] = aT.classifierWrapper(classifier_1, \"knn\", cur_f1)\n",
    "    [res, P2] = aT.classifierWrapper(classifier_2, \"knn\", cur_f2)\n",
    "    MidTermFeatures2[0:mt_feats.shape[0], i] = mt_feats[:, i]\n",
    "    MidTermFeatures2[mt_feats.shape[0]:mt_feats.shape[0]+len(classNames1), i] = P1 + 0.0001\n",
    "    MidTermFeatures2[mt_feats.shape[0] + len(classNames1)::, i] = P2 + 0.0001\n",
    "\n",
    "mt_feats = MidTermFeatures2    # TODO\n",
    "iFeaturesSelect = [8, 9, 10, 11, 12, 13, 14, 15, 16, 17, 18, 19, 20, 41,\n",
    "                   42, 43, 44, 45, 46, 47, 48, 49, 50, 51, 52, 53]\n",
    "\n",
    "mt_feats = mt_feats[iFeaturesSelect, :]\n",
    "\n",
    "(mt_feats_norm, MEAN, STD) = aT.normalizeFeatures([mt_feats.T])\n",
    "mt_feats_norm = mt_feats_norm[0].T\n",
    "n_wins = mt_feats.shape[1]"
   ]
  },
  {
   "cell_type": "markdown",
   "metadata": {},
   "source": [
    "#### Remove Outliers"
   ]
  },
  {
   "cell_type": "code",
   "execution_count": 131,
   "metadata": {},
   "outputs": [],
   "source": [
    "# remove outliers:\n",
    "dist_all = np.sum(distance.squareform(distance.pdist(mt_feats_norm.T)),\n",
    "                     axis=0)\n",
    "m_dist_all = np.mean(dist_all)\n",
    "i_non_outliers = np.nonzero(dist_all < 1.2 * m_dist_all)[0]"
   ]
  },
  {
   "cell_type": "code",
   "execution_count": 132,
   "metadata": {},
   "outputs": [],
   "source": [
    "perOutLier = (100.0 * (n_wins - i_non_outliers.shape[0])) / n_wins\n",
    "mt_feats_norm_or = mt_feats_norm\n",
    "mt_feats_norm = mt_feats_norm[:, i_non_outliers]"
   ]
  },
  {
   "cell_type": "markdown",
   "metadata": {},
   "source": [
    "#### LDA Dimensionality Reduction"
   ]
  },
  {
   "cell_type": "code",
   "execution_count": 133,
   "metadata": {},
   "outputs": [
    {
     "name": "stderr",
     "output_type": "stream",
     "text": [
      "C:\\Users\\anfrankl\\AppData\\Local\\Continuum\\anaconda3\\lib\\site-packages\\sklearn\\discriminant_analysis.py:466: ChangedBehaviorWarning: n_components cannot be larger than min(n_features, n_classes - 1). Using min(n_features, n_classes - 1) = min(26, 6 - 1) = 5 components.\n",
      "  ChangedBehaviorWarning)\n",
      "C:\\Users\\anfrankl\\AppData\\Local\\Continuum\\anaconda3\\lib\\site-packages\\sklearn\\discriminant_analysis.py:472: FutureWarning: In version 0.23, setting n_components > min(n_features, n_classes - 1) will raise a ValueError. You should set n_components to None (default), or a value smaller or equal to min(n_features, n_classes - 1).\n",
      "  warnings.warn(future_msg, FutureWarning)\n"
     ]
    }
   ],
   "source": [
    "# LDA dimensionality reduction:\n",
    "if lda_dim > 0:\n",
    "    #[mt_feats_to_red, _, _] = aF.mtFeatureExtraction(x, fs, mt_size * fs,\n",
    "    # st_win * fs, round(fs*st_win), round(fs*st_win));\n",
    "    # extract mid-term features with minimum step:\n",
    "    mt_win_ratio = int(round(mt_size / st_win))\n",
    "    mt_step_ratio = int(round(st_win / st_win))\n",
    "    mt_feats_to_red = []\n",
    "    num_of_features = len(st_feats)\n",
    "    num_of_stats = 2\n",
    "    #for i in range(num_of_stats * num_of_features + 1):\n",
    "    for i in range(num_of_stats * num_of_features):\n",
    "        mt_feats_to_red.append([])\n",
    "\n",
    "    for i in range(num_of_features):  # for each of the short-term features:\n",
    "        curPos = 0\n",
    "        N = len(st_feats[i])\n",
    "        while (curPos < N):\n",
    "            N1 = curPos\n",
    "            N2 = curPos + mt_win_ratio\n",
    "            if N2 > N:\n",
    "                N2 = N\n",
    "            curStFeatures = st_feats[i][N1:N2]\n",
    "            mt_feats_to_red[i].append(np.mean(curStFeatures))\n",
    "            mt_feats_to_red[i+num_of_features].append(np.std(curStFeatures))\n",
    "            curPos += mt_step_ratio\n",
    "    mt_feats_to_red = np.array(mt_feats_to_red)\n",
    "    mt_feats_to_red_2 = np.zeros((mt_feats_to_red.shape[0] +\n",
    "                                    len(classNames1) + len(classNames2),\n",
    "                                     mt_feats_to_red.shape[1]))\n",
    "    for i in range(mt_feats_to_red.shape[1]):\n",
    "        cur_f1 = (mt_feats_to_red[:, i] - MEAN1) / STD1\n",
    "        cur_f2 = (mt_feats_to_red[:, i] - MEAN2) / STD2\n",
    "        [res, P1] = aT.classifierWrapper(classifier_1, \"knn\", cur_f1)\n",
    "        [res, P2] = aT.classifierWrapper(classifier_2, \"knn\", cur_f2)\n",
    "        mt_feats_to_red_2[0:mt_feats_to_red.shape[0], i] = mt_feats_to_red[:, i]\n",
    "        mt_feats_to_red_2[mt_feats_to_red.shape[0]:mt_feats_to_red.shape[0] + len(classNames1), i] = P1 + 0.0001\n",
    "        mt_feats_to_red_2[mt_feats_to_red.shape[0]+len(classNames1)::, i] = P2 + 0.0001\n",
    "    mt_feats_to_red = mt_feats_to_red_2\n",
    "    mt_feats_to_red = mt_feats_to_red[iFeaturesSelect, :]\n",
    "    #mt_feats_to_red += np.random.rand(mt_feats_to_red.shape[0], mt_feats_to_red.shape[1]) * 0.0000010\n",
    "    (mt_feats_to_red, MEAN, STD) = aT.normalizeFeatures([mt_feats_to_red.T])\n",
    "    mt_feats_to_red = mt_feats_to_red[0].T\n",
    "    #dist_all = np.sum(distance.squareform(distance.pdist(mt_feats_to_red.T)), axis=0)\n",
    "    #m_dist_all = np.mean(dist_all)\n",
    "    #iNonOutLiers2 = np.nonzero(dist_all < 3.0*m_dist_all)[0]\n",
    "    #mt_feats_to_red = mt_feats_to_red[:, iNonOutLiers2]\n",
    "    Labels = np.zeros((mt_feats_to_red.shape[1], ));\n",
    "    LDAstep = 1.0\n",
    "    LDAstepRatio = LDAstep / st_win\n",
    "    #print LDAstep, LDAstepRatio\n",
    "    for i in range(Labels.shape[0]):\n",
    "        Labels[i] = int(i*st_win/LDAstepRatio);        \n",
    "    clf = sklearn.discriminant_analysis.LinearDiscriminantAnalysis(n_components=lda_dim)\n",
    "    clf.fit(mt_feats_to_red.T, Labels)\n",
    "    mt_feats_norm = (clf.transform(mt_feats_norm.T)).T"
   ]
  },
  {
   "cell_type": "code",
   "execution_count": 134,
   "metadata": {},
   "outputs": [],
   "source": [
    "if n_speakers <= 0:\n",
    "    s_range = range(2, 10)\n",
    "else:\n",
    "    s_range = [n_speakers]\n",
    "clsAll = []\n",
    "sil_all = []\n",
    "centersAll = []"
   ]
  },
  {
   "cell_type": "code",
   "execution_count": 135,
   "metadata": {},
   "outputs": [],
   "source": [
    "for iSpeakers in s_range:        \n",
    "    k_means = sklearn.cluster.KMeans(n_clusters=iSpeakers)\n",
    "    k_means.fit(mt_feats_norm.T)\n",
    "    cls = k_means.labels_        \n",
    "    means = k_means.cluster_centers_\n",
    "\n",
    "    # Y = distance.squareform(distance.pdist(mt_feats_norm.T))\n",
    "    clsAll.append(cls)\n",
    "    centersAll.append(means)\n",
    "    sil_1 = []; sil_2 = []\n",
    "    for c in range(iSpeakers):\n",
    "        # for each speaker (i.e. for each extracted cluster)\n",
    "        clust_per_cent = np.nonzero(cls == c)[0].shape[0] / \\\n",
    "                         float(len(cls))\n",
    "        if clust_per_cent < 0.020:\n",
    "            sil_1.append(0.0)\n",
    "            sil_2.append(0.0)\n",
    "        else:\n",
    "            # get subset of feature vectors\n",
    "            mt_feats_norm_temp = mt_feats_norm[:, cls==c]\n",
    "            # compute average distance between samples\n",
    "            # that belong to the cluster (a values)\n",
    "            Yt = distance.pdist(mt_feats_norm_temp.T)\n",
    "            sil_1.append(np.mean(Yt)*clust_per_cent)\n",
    "            silBs = []\n",
    "            for c2 in range(iSpeakers):\n",
    "                # compute distances from samples of other clusters\n",
    "                if c2 != c:\n",
    "                    clust_per_cent_2 = np.nonzero(cls == c2)[0].shape[0] /\\\n",
    "                                       float(len(cls))\n",
    "                    MidTermFeaturesNormTemp2 = mt_feats_norm[:, cls == c2]\n",
    "                    Yt = distance.cdist(mt_feats_norm_temp.T, \n",
    "                                        MidTermFeaturesNormTemp2.T)\n",
    "                    silBs.append(np.mean(Yt)*(clust_per_cent\n",
    "                                                 + clust_per_cent_2)/2.0)\n",
    "            silBs = np.array(silBs)\n",
    "            # ... and keep the minimum value (i.e.\n",
    "            # the distance from the \"nearest\" cluster)\n",
    "            sil_2.append(min(silBs))\n",
    "    sil_1 = np.array(sil_1); \n",
    "    sil_2 = np.array(sil_2); \n",
    "    sil = []\n",
    "    for c in range(iSpeakers):\n",
    "        # for each cluster (speaker) compute silhouette\n",
    "        sil.append( ( sil_2[c] - sil_1[c]) / (max(sil_2[c],\n",
    "                                                  sil_1[c]) + 0.00001))\n",
    "    # keep the AVERAGE SILLOUETTE\n",
    "    sil_all.append(np.mean(sil))\n"
   ]
  },
  {
   "cell_type": "markdown",
   "metadata": {},
   "source": [
    "#### Number of speakers"
   ]
  },
  {
   "cell_type": "code",
   "execution_count": 136,
   "metadata": {},
   "outputs": [],
   "source": [
    "imax = np.argmax(sil_all)\n",
    "# optimal number of clusters\n",
    "nSpeakersFinal = s_range[imax]\n"
   ]
  },
  {
   "cell_type": "code",
   "execution_count": 137,
   "metadata": {},
   "outputs": [
    {
     "data": {
      "text/plain": [
       "2"
      ]
     },
     "execution_count": 137,
     "metadata": {},
     "output_type": "execute_result"
    }
   ],
   "source": [
    "nSpeakersFinal"
   ]
  },
  {
   "cell_type": "markdown",
   "metadata": {},
   "source": [
    "#### Final cluster labels"
   ]
  },
  {
   "cell_type": "code",
   "execution_count": 138,
   "metadata": {},
   "outputs": [],
   "source": [
    "# generate the final set of cluster labels\n",
    "# (important: need to retrieve the outlier windows:\n",
    "# this is achieved by giving them the value of their\n",
    "# nearest non-outlier window)\n",
    "cls = np.zeros((n_wins,))\n",
    "for i in range(n_wins):\n",
    "    j = np.argmin(np.abs(i-i_non_outliers))        \n",
    "    cls[i] = clsAll[imax][j]\n"
   ]
  },
  {
   "cell_type": "markdown",
   "metadata": {},
   "source": [
    "#### Postprocess for smoothing"
   ]
  },
  {
   "cell_type": "code",
   "execution_count": 139,
   "metadata": {},
   "outputs": [],
   "source": [
    "# Post-process method 1: hmm smoothing\n",
    "for i in range(1):\n",
    "    # hmm training\n",
    "    start_prob, transmat, means, cov = \\\n",
    "        trainHMM_computeStatistics(mt_feats_norm_or, cls)\n",
    "    hmm = hmmlearn.hmm.GaussianHMM(start_prob.shape[0], \"diag\")\n",
    "    hmm.startprob_ = start_prob\n",
    "    hmm.transmat_ = transmat            \n",
    "    hmm.means_ = means; hmm.covars_ = cov\n",
    "    cls = hmm.predict(mt_feats_norm_or.T)                    \n",
    "\n",
    "# Post-process method 2: median filtering:\n",
    "cls = scipy.signal.medfilt(cls, 13)\n",
    "cls = scipy.signal.medfilt(cls, 11)\n",
    "\n",
    "sil = sil_all[imax]\n",
    "class_names = [\"speaker{0:d}\".format(c) for c in range(nSpeakersFinal)];\n"
   ]
  },
  {
   "cell_type": "markdown",
   "metadata": {},
   "source": [
    "#### Load Ground Truth if available"
   ]
  },
  {
   "cell_type": "code",
   "execution_count": 140,
   "metadata": {},
   "outputs": [],
   "source": [
    "# load ground-truth if available\n",
    "gt_file = filename.replace('.wav', '.segments')\n",
    "# if groundturh exists\n",
    "if os.path.isfile(gt_file):\n",
    "    [seg_start, seg_end, seg_labs] = readSegmentGT(gt_file)\n",
    "    flags_gt, class_names_gt = segs2flags(seg_start, seg_end, seg_labs, mt_step)"
   ]
  },
  {
   "cell_type": "code",
   "execution_count": 141,
   "metadata": {},
   "outputs": [
    {
     "data": {
      "text/plain": [
       "'./pyAudioAnalysis/data/Greenway/test_1_min.wav'"
      ]
     },
     "execution_count": 141,
     "metadata": {},
     "output_type": "execute_result"
    }
   ],
   "source": [
    "filename"
   ]
  },
  {
   "cell_type": "code",
   "execution_count": 142,
   "metadata": {},
   "outputs": [
    {
     "data": {
      "text/plain": [
       "False"
      ]
     },
     "execution_count": 142,
     "metadata": {},
     "output_type": "execute_result"
    }
   ],
   "source": [
    "os.path.isfile(gt_file)"
   ]
  },
  {
   "cell_type": "code",
   "execution_count": 143,
   "metadata": {},
   "outputs": [
    {
     "data": {
      "text/plain": [
       "'./pyAudioAnalysis/data/Greenway/test_1_min.segments'"
      ]
     },
     "execution_count": 143,
     "metadata": {},
     "output_type": "execute_result"
    }
   ],
   "source": [
    "gt_file"
   ]
  },
  {
   "cell_type": "markdown",
   "metadata": {},
   "source": [
    "#### Develop Plots"
   ]
  },
  {
   "cell_type": "code",
   "execution_count": 144,
   "metadata": {},
   "outputs": [
    {
     "data": {
      "image/png": "[encoded data removed]",
      "text/plain": [
       "<Figure size 432x288 with 1 Axes>"
      ]
     },
     "metadata": {
      "needs_background": "light"
     },
     "output_type": "display_data"
    }
   ],
   "source": [
    "if plot_res:\n",
    "    fig = plt.figure()    \n",
    "    if n_speakers > 0:\n",
    "        ax1 = fig.add_subplot(111)\n",
    "    else:\n",
    "        ax1 = fig.add_subplot(211)\n",
    "    ax1.set_yticks(np.array(range(len(class_names))))\n",
    "    ax1.axis((0, duration, -1, len(class_names)))\n",
    "    ax1.set_yticklabels(class_names)\n",
    "    ax1.plot(np.array(range(len(cls)))*mt_step+mt_step/2.0, cls)\n",
    "\n",
    "if os.path.isfile(gt_file):\n",
    "    if plot_res:\n",
    "        ax1.plot(np.array(range(len(flags_gt))) *\n",
    "                 mt_step + mt_step / 2.0, flags_gt, 'r')\n",
    "    purity_cluster_m, purity_speaker_m = \\\n",
    "        evaluateSpeakerDiarization(cls, flags_gt)\n",
    "    print(\"{0:.1f}\\t{1:.1f}\".format(100 * purity_cluster_m,\n",
    "                                    100 * purity_speaker_m))\n",
    "    if plot_res:\n",
    "        plt.title(\"Cluster purity: {0:.1f}% - \"\n",
    "                  \"Speaker purity: {1:.1f}%\".format(100 * purity_cluster_m,\n",
    "                                                    100 * purity_speaker_m))\n",
    "if plot_res:\n",
    "    plt.xlabel(\"time (seconds)\")\n",
    "    #print s_range, sil_all    \n",
    "    if n_speakers<=0:\n",
    "        plt.subplot(212)\n",
    "        plt.plot(s_range, sil_all)\n",
    "        plt.xlabel(\"number of clusters\");\n",
    "        plt.ylabel(\"average clustering's sillouette\");\n",
    "    plt.show()\n"
   ]
  },
  {
   "cell_type": "code",
   "execution_count": 145,
   "metadata": {},
   "outputs": [
    {
     "data": {
      "text/plain": [
       "['speaker0', 'speaker1']"
      ]
     },
     "execution_count": 145,
     "metadata": {},
     "output_type": "execute_result"
    }
   ],
   "source": [
    "class_names"
   ]
  },
  {
   "cell_type": "code",
   "execution_count": 146,
   "metadata": {},
   "outputs": [
    {
     "data": {
      "text/plain": [
       "0.2"
      ]
     },
     "execution_count": 146,
     "metadata": {},
     "output_type": "execute_result"
    }
   ],
   "source": [
    "mt_step"
   ]
  },
  {
   "cell_type": "code",
   "execution_count": 159,
   "metadata": {},
   "outputs": [],
   "source": [
    "time_vec=np.array(range(len(cls)))*mt_step+mt_step/2.0"
   ]
  },
  {
   "cell_type": "code",
   "execution_count": 148,
   "metadata": {},
   "outputs": [
    {
     "data": {
      "text/plain": [
       "array([0., 0., 0., 0., 0., 0., 0., 0., 0., 0., 0., 0., 0., 0., 0., 0., 0.,\n",
       "       0., 0., 0., 0., 0., 0., 0., 0., 0., 0., 0., 0., 0., 0., 0., 0., 0.,\n",
       "       0., 0., 0., 0., 0., 0., 0., 0., 0., 0., 0., 0., 0., 0., 0., 0., 0.,\n",
       "       0., 0., 0., 0., 0., 0., 0., 0., 0., 0., 0., 0., 0., 0., 0., 0., 0.,\n",
       "       0., 0., 0., 0., 0., 0., 0., 0., 0., 0., 0., 0., 0., 0., 0., 0., 0.,\n",
       "       0., 0., 0., 0., 0., 0., 0., 0., 0., 0., 0., 0., 0., 0., 0., 0., 0.,\n",
       "       0., 0., 0., 0., 0., 0., 0., 0., 0., 0., 0., 0., 0., 0., 0., 0., 0.,\n",
       "       0., 0., 0., 0., 0., 0., 0., 0., 0., 0., 0., 0., 0., 1., 1., 1., 1.,\n",
       "       1., 1., 1., 1., 1., 1., 1., 1., 1., 1., 1., 1., 1., 1., 1., 1., 1.,\n",
       "       1., 1., 1., 1., 1., 1., 1., 1., 1., 1., 1., 1., 1., 1., 1., 1., 1.,\n",
       "       1., 1., 1., 1., 1., 1., 1., 1., 1., 1., 1., 1., 1., 1., 1., 1., 1.,\n",
       "       1., 1., 1., 1., 1., 1., 1., 1., 1., 1., 1., 1., 1., 1., 1., 1., 1.,\n",
       "       1., 1., 1., 1., 1., 1., 1., 1., 1., 1., 1., 1., 1., 1., 1., 1., 1.,\n",
       "       1., 1., 1., 1., 1., 1., 1., 1., 1., 1., 1., 1., 1., 1., 1., 1., 1.,\n",
       "       1., 1., 1., 1., 1., 1., 1., 1., 1., 1., 1., 1., 1., 1., 1., 1., 1.,\n",
       "       1., 1., 1., 1., 1., 1., 1., 1., 1., 1., 1., 1., 1., 1., 1., 1., 1.,\n",
       "       1., 1., 1., 1., 1., 1., 1., 1., 1., 1., 1., 1., 1., 1., 1., 1., 1.,\n",
       "       1., 1., 1., 1., 1., 1., 1., 1., 1., 1., 1.])"
      ]
     },
     "execution_count": 148,
     "metadata": {},
     "output_type": "execute_result"
    }
   ],
   "source": [
    "cls"
   ]
  },
  {
   "cell_type": "markdown",
   "metadata": {},
   "source": [
    "#### Find Change points"
   ]
  },
  {
   "cell_type": "code",
   "execution_count": 149,
   "metadata": {},
   "outputs": [],
   "source": [
    "speaker_change_index=np.where(np.roll(cls,1)!=cls)[0]"
   ]
  },
  {
   "cell_type": "code",
   "execution_count": 150,
   "metadata": {},
   "outputs": [
    {
     "data": {
      "text/plain": [
       "array([  0, 132], dtype=int64)"
      ]
     },
     "execution_count": 150,
     "metadata": {},
     "output_type": "execute_result"
    }
   ],
   "source": [
    "speaker_change_index"
   ]
  },
  {
   "cell_type": "code",
   "execution_count": 158,
   "metadata": {},
   "outputs": [
    {
     "data": {
      "text/plain": [
       "2"
      ]
     },
     "execution_count": 158,
     "metadata": {},
     "output_type": "execute_result"
    }
   ],
   "source": [
    "len(speaker_change_index)"
   ]
  },
  {
   "cell_type": "code",
   "execution_count": 153,
   "metadata": {},
   "outputs": [
    {
     "data": {
      "text/plain": [
       "300"
      ]
     },
     "execution_count": 153,
     "metadata": {},
     "output_type": "execute_result"
    }
   ],
   "source": [
    "len(cls)"
   ]
  },
  {
   "cell_type": "code",
   "execution_count": 156,
   "metadata": {},
   "outputs": [
    {
     "data": {
      "text/plain": [
       "26.500000000000004"
      ]
     },
     "execution_count": 156,
     "metadata": {},
     "output_type": "execute_result"
    }
   ],
   "source": [
    "temp[132]"
   ]
  },
  {
   "cell_type": "code",
   "execution_count": 155,
   "metadata": {},
   "outputs": [
    {
     "name": "stdout",
     "output_type": "stream",
     "text": [
      "1.0 1.0\n"
     ]
    }
   ],
   "source": [
    "print(cls[135], cls[136])"
   ]
  },
  {
   "cell_type": "code",
   "execution_count": 166,
   "metadata": {},
   "outputs": [],
   "source": [
    "from datetime import datetime\n",
    "import pprint"
   ]
  },
  {
   "cell_type": "code",
   "execution_count": 168,
   "metadata": {},
   "outputs": [
    {
     "name": "stdout",
     "output_type": "stream",
     "text": [
      "[{'dialogue_id': '2020-02-13 15:04:18.148188',\n",
      "  'end_time': 26.300000000000004,\n",
      "  'speaker': 0.0,\n",
      "  'start_time': 0.1,\n",
      "  'text': None},\n",
      " {'dialogue_id': '2020-02-13 15:04:18.148188',\n",
      "  'end_time': 59.900000000000006,\n",
      "  'speaker': 1.0,\n",
      "  'start_time': 26.500000000000004,\n",
      "  'text': None}]\n"
     ]
    }
   ],
   "source": [
    "output_list=[]\n",
    "temp={}\n",
    "for ind,sc in enumerate(speaker_change_index):\n",
    "    temp['dialogue_id']= str(datetime.now()).strip()\n",
    "    temp['speaker']=list(cls)[sc]\n",
    "    temp['start_time']=time_vec[sc]\n",
    "    temp['end_time']=time_vec[speaker_change_index[ind+1]-1] if ind+1<len(speaker_change_index) else time_vec[-1]\n",
    "    temp[\"text\"]=None\n",
    "    output_list.append(temp)\n",
    "    temp={}\n",
    "    \n",
    "pprint.pprint(output_list)\n"
   ]
  },
  {
   "cell_type": "markdown",
   "metadata": {},
   "source": [
    "#### Wav snippets"
   ]
  },
  {
   "cell_type": "code",
   "execution_count": 170,
   "metadata": {},
   "outputs": [],
   "source": [
    "def save_snippet(output_list,filename,output_folder):\n",
    "    for ind,diag in enumerate(output_list):\n",
    "        t1=diag['start_time']\n",
    "        t2=diag['end_time']\n",
    "        newAudio = AudioSegment.from_wav(filename)\n",
    "        newAudio = newAudio[diag['start_time']:diag['end_time']]\n",
    "        filename_out=output_folder+ f\"snippet_{str(t1)[:4]}_{str(t2)[:4]}.wav\"\n",
    "        newAudio.export(filename_out, format=\"wav\") #Exports to a wav file in the current path."
   ]
  },
  {
   "cell_type": "code",
   "execution_count": 171,
   "metadata": {},
   "outputs": [],
   "source": [
    "save_snippet(output_list,filename,\"./pyAudioAnalysis/data/Greenway/\")"
   ]
  },
  {
   "cell_type": "markdown",
   "metadata": {},
   "source": [
    "### transcribe the wav snippets"
   ]
  },
  {
   "cell_type": "code",
   "execution_count": null,
   "metadata": {},
   "outputs": [],
   "source": []
  },
  {
   "cell_type": "code",
   "execution_count": null,
   "metadata": {},
   "outputs": [],
   "source": []
  },
  {
   "cell_type": "code",
   "execution_count": null,
   "metadata": {},
   "outputs": [],
   "source": []
  },
  {
   "cell_type": "code",
   "execution_count": null,
   "metadata": {},
   "outputs": [],
   "source": []
  }
 ],
 "metadata": {
  "kernelspec": {
   "display_name": "Python 3",
   "language": "python",
   "name": "python3"
  },
  "language_info": {
   "codemirror_mode": {
    "name": "ipython",
    "version": 3
   },
   "file_extension": ".py",
   "mimetype": "text/x-python",
   "name": "python",
   "nbconvert_exporter": "python",
   "pygments_lexer": "ipython3",
   "version": "3.7.3"
  }
 },
 "nbformat": 4,
 "nbformat_minor": 2
}
